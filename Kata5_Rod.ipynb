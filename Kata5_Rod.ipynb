{
 "cells": [
  {
   "cell_type": "markdown",
   "metadata": {},
   "source": [
    "## Kata 5"
   ]
  },
  {
   "cell_type": "code",
   "execution_count": 1,
   "metadata": {},
   "outputs": [
    {
     "name": "stdout",
     "output_type": "stream",
     "text": [
      "628949330\n"
     ]
    }
   ],
   "source": [
    "# Ejercicio 1\n",
    "\n",
    "# Crear variables para almacenar las dos distancias\n",
    "# ¡Asegúrate de quitar las comas!\n",
    "\n",
    "Tierra = 149597870 \n",
    "Jupiter = 778547200\n",
    "\n",
    "\n",
    "# Calcular la distancia entre planetas\n",
    "dist = Jupiter - Tierra\n",
    "print(dist)"
   ]
  },
  {
   "cell_type": "code",
   "execution_count": 4,
   "metadata": {},
   "outputs": [
    {
     "name": "stdout",
     "output_type": "stream",
     "text": [
      "Distancia en millas: 3000\n",
      "Distancia en millas: 189.3\n"
     ]
    }
   ],
   "source": [
    "# Ejercicio 2\n",
    "\n",
    "# Almacenar las entradas del usuario\n",
    "#Pista: variable = input(\"¿Cuál es tu nombre?\")\n",
    "\n",
    "var1 = input(\"Distancia planeta 1: \")\n",
    "var2 = input(\"Distancia planeta 2: \")\n",
    "\n",
    "# Convierte las cadenas de ambos planetas a números enteros\n",
    "var1 = int(var1)\n",
    "var2 = int(var2)\n",
    "\n",
    "# Realizar el cálculo y determinar el valor absoluto\n",
    "dist = abs(var1 - var2)\n",
    "print(\"Distancia en millas: \" + str(dist))\n",
    "\n",
    "# Convertir de KM a Millas\n",
    "dist2 = dist*.0631\n",
    "print(\"Distancia en millas: \" + str(dist2))\n",
    "\n"
   ]
  }
 ],
 "metadata": {
  "interpreter": {
   "hash": "ba8fed00f4d28cbc84c9c3df2fd326b27173e8e6044fe32df33d352664fb1cde"
  },
  "kernelspec": {
   "display_name": "Python 3.10.2 64-bit",
   "language": "python",
   "name": "python3"
  },
  "language_info": {
   "codemirror_mode": {
    "name": "ipython",
    "version": 3
   },
   "file_extension": ".py",
   "mimetype": "text/x-python",
   "name": "python",
   "nbconvert_exporter": "python",
   "pygments_lexer": "ipython3",
   "version": "3.10.2"
  },
  "orig_nbformat": 4
 },
 "nbformat": 4,
 "nbformat_minor": 2
}
