{
 "cells": [
  {
   "cell_type": "markdown",
   "metadata": {},
   "source": [
    "## Kata 9"
   ]
  },
  {
   "cell_type": "code",
   "execution_count": 6,
   "metadata": {},
   "outputs": [
    {
     "name": "stdout",
     "output_type": "stream",
     "text": [
      "Informe:\n",
      "    Tanque 1: 10\n",
      "    Tanque 2: 20\n",
      "    Tanque 3: 30 \n",
      "    Promedio: 20.0\n",
      "    \n",
      "30.0\n",
      "Informe:\n",
      "    Tanque 1: 5\n",
      "    Tanque 2: 10\n",
      "    Tanque 3: 15 \n",
      "    Promedio: 10.0\n",
      "    \n"
     ]
    }
   ],
   "source": [
    "# Función para leer 3 tanques de combustible y muestre el promedio\n",
    "\n",
    "def informe(tan1, tan2, tan3):\n",
    "    promedio = (tan1 + tan2 + tan3) / 3\n",
    "    return f\"\"\"Informe:\n",
    "    Tanque 1: {tan1}\n",
    "    Tanque 2: {tan2}\n",
    "    Tanque 3: {tan3} \n",
    "    Promedio: {promedio}\n",
    "    \"\"\"\n",
    "\n",
    "# Llamamos a la función que genera el reporte print(funcion(tanque1, tanque2, tanque3))\n",
    "print(informe(10, 20, 30))\n",
    "\n",
    "# Función promedio \n",
    "def promedio(values):\n",
    "    total = sum(values)\n",
    "    cantidad = len(values)\n",
    "    return total / cantidad\n",
    "\n",
    "# Test the averaging function with a list of integers:\n",
    "print(promedio([20, 30, 40])) \n",
    "\n",
    "# Actualiza la función\n",
    "def informe2(tan1, tan2, tan3):\n",
    "    return f\"\"\"Informe:\n",
    "    Tanque 1: {tan1}\n",
    "    Tanque 2: {tan2}\n",
    "    Tanque 3: {tan3} \n",
    "    Promedio: {promedio([tan1, tan2, tan3])}\n",
    "    \"\"\"\n",
    "\n",
    "# Call the updated function again with different values\n",
    "print(informe2(5, 10, 15))\n"
   ]
  },
  {
   "cell_type": "code",
   "execution_count": 10,
   "metadata": {},
   "outputs": [
    {
     "name": "stdout",
     "output_type": "stream",
     "text": [
      "\n",
      "    Informe de misión a Saturno\n",
      "    Tiempo de vuelo: 42 años luz\n",
      "    Combustible usado: 10000 miles de litros\n",
      "    \n"
     ]
    }
   ],
   "source": [
    "# Ej 2\n",
    "\n",
    "# Función con un informe preciso de la misión. Considera hora de prelanzamiento, tiempo de vuelo, destino, tanque externo y tanque interno\n",
    "\n",
    "def mission_report(pre_lanzamiento, tiempo_vuelo, destino, tanque_ext, tanque_int):\n",
    "    return f\"\"\"\n",
    "    Informe de misión a {destino}\n",
    "    Tiempo de vuelo: {pre_lanzamiento + tiempo_vuelo} años luz\n",
    "    Combustible usado: {tanque_ext + tanque_int} miles de litros\n",
    "    \"\"\"\n",
    "\n",
    "print(mission_report(19, 23, \"Saturno\", 1000, 9000))\n",
    "\n"
   ]
  },
  {
   "cell_type": "code",
   "execution_count": null,
   "metadata": {},
   "outputs": [],
   "source": []
  }
 ],
 "metadata": {
  "interpreter": {
   "hash": "aee8b7b246df8f9039afb4144a1f6fd8d2ca17a180786b69acc140d282b71a49"
  },
  "kernelspec": {
   "display_name": "Python 3.10.2 64-bit",
   "language": "python",
   "name": "python3"
  },
  "language_info": {
   "codemirror_mode": {
    "name": "ipython",
    "version": 3
   },
   "file_extension": ".py",
   "mimetype": "text/x-python",
   "name": "python",
   "nbconvert_exporter": "python",
   "pygments_lexer": "ipython3",
   "version": "3.10.2"
  },
  "orig_nbformat": 4
 },
 "nbformat": 4,
 "nbformat_minor": 2
}
