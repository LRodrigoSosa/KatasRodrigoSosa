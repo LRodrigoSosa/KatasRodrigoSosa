{
 "cells": [
  {
   "cell_type": "markdown",
   "metadata": {},
   "source": [
    "# Kata 3"
   ]
  },
  {
   "cell_type": "markdown",
   "metadata": {},
   "source": [
    "# P1"
   ]
  },
  {
   "cell_type": "code",
   "execution_count": 1,
   "metadata": {},
   "outputs": [
    {
     "name": "stdout",
     "output_type": "stream",
     "text": [
      "4 es mayor\n"
     ]
    }
   ],
   "source": [
    "var1 = 3\n",
    "var2 = 4\n",
    "\n",
    "if var1 < var2:\n",
    "    print(str(var2) + \" es mayor\")\n"
   ]
  },
  {
   "cell_type": "markdown",
   "metadata": {},
   "source": [
    "# P2"
   ]
  },
  {
   "cell_type": "code",
   "execution_count": 33,
   "metadata": {},
   "outputs": [
    {
     "name": "stdout",
     "output_type": "stream",
     "text": [
      "No cuenta, muy pequeño\n"
     ]
    }
   ],
   "source": [
    "años = int(input()) \n",
    "\n",
    "if años == 3:\n",
    "    print(\"Lucas es latoso\")\n",
    "elif años == 4:\n",
    "    print(\"Lucas es guerroso\")\n",
    "elif años >= 5:\n",
    "    print(\"Lucas es el más lindo\")\n",
    "else:\n",
    "    if años == 0:\n",
    "        print(\"No cuenta, muy pequeño\")    \n",
    "    else:   \n",
    "        print(\"Lucas es bebé\")"
   ]
  },
  {
   "cell_type": "markdown",
   "metadata": {},
   "source": [
    "# P3"
   ]
  },
  {
   "cell_type": "code",
   "execution_count": null,
   "metadata": {},
   "outputs": [],
   "source": [
    "# Agrega el código para crear nuevas variables para la velocidad y el tamaño del asteroide\n",
    "# Para probar el código, prueba con varias velocidades y tamaños\n",
    "# Escribe varias expresiones de prueba o combinaciones de expresiones de prueba para determinar qué mensaje se debe enviar a Tierra.\n",
    "\n",
    "tamano_asteroide = input()\n",
    "vel_asteriode = input()\n",
    "\n",
    "\n",
    "if int(tamano_asteroide) >= 25 and int(tamano_asteroide) <= 1000:\n",
    "    print(\"Ojo que nos destroza --> tamaño = \" + tamano_asteroide )\n",
    "elif int(vel_asteriode) >= 25:\n",
    "    print(\"Hay que estar atentos --> velocidad que tiene = \" + vel_asteriode)\n",
    "else:\n",
    "    print(\"Todo tranquilo\" )"
   ]
  }
 ],
 "metadata": {
  "interpreter": {
   "hash": "ba8fed00f4d28cbc84c9c3df2fd326b27173e8e6044fe32df33d352664fb1cde"
  },
  "kernelspec": {
   "display_name": "Python 3.10.2 64-bit",
   "language": "python",
   "name": "python3"
  },
  "language_info": {
   "codemirror_mode": {
    "name": "ipython",
    "version": 3
   },
   "file_extension": ".py",
   "mimetype": "text/x-python",
   "name": "python",
   "nbconvert_exporter": "python",
   "pygments_lexer": "ipython3",
   "version": "3.10.2"
  },
  "orig_nbformat": 4
 },
 "nbformat": 4,
 "nbformat_minor": 2
}
